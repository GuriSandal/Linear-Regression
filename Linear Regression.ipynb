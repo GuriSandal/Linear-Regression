{
 "cells": [
  {
   "cell_type": "code",
   "execution_count": 2,
   "metadata": {},
   "outputs": [],
   "source": [
    "import numpy as np\n",
    "import matplotlib.pyplot as plt\n",
    "\n",
    "def find_coefficients(x, y):\n",
    "    #size of dataset\n",
    "    n = np.size(x)\n",
    "    \n",
    "    #mean of x and y\n",
    "    mean_x, mean_y = np.mean(x), np.mean(y)\n",
    "    \n",
    "    # calculate cross-deviation and devaition about x\n",
    "    numer = 0\n",
    "    denom = 0\n",
    "    for i in range(n):\n",
    "        numer += (X[i] - mean_x) * (Y[i] - mean_y)\n",
    "        denom += (X[i] - mean_x) ** 2\n",
    "        \n",
    "    b1 = numer / denom\n",
    "    b0 = mean_y - (b1 * mean_x)\n",
    "    print('b0=',b0,' b1=',b1)            \n",
    "    return (b0, b1)"
   ]
  },
  {
   "cell_type": "code",
   "execution_count": 3,
   "metadata": {},
   "outputs": [],
   "source": [
    "def plot_regression_line(x, y, b):\n",
    "    # Plotting Values and Regression Line\n",
    "    max_x = np.max(X) + 100\n",
    "    min_x = np.min(X) - 100\n",
    "    # Calculating line values x and y\n",
    "    x = np.linspace(min_x, max_x, 1000)\n",
    "    y = b[0] + b[1] * x \n",
    " \n",
    "    # Ploting Line\n",
    "    plt.plot(x, y, color='#52b920', label='Regression Line')\n",
    "    # Ploting Scatter Points\n",
    "    plt.scatter(X, Y, c='#ef4423', label='Scatter Plot')\n",
    " \n",
    "    plt.xlabel('Head Size in cm3')\n",
    "    plt.ylabel('Brain Weight in grams')\n",
    "    plt.legend()\n",
    "    plt.show()"
   ]
  }
 ],
 "metadata": {
  "kernelspec": {
   "display_name": "Python 3",
   "language": "python",
   "name": "python3"
  },
  "language_info": {
   "codemirror_mode": {
    "name": "ipython",
    "version": 3
   },
   "file_extension": ".py",
   "mimetype": "text/x-python",
   "name": "python",
   "nbconvert_exporter": "python",
   "pygments_lexer": "ipython3",
   "version": "3.6.5"
  }
 },
 "nbformat": 4,
 "nbformat_minor": 2
}
